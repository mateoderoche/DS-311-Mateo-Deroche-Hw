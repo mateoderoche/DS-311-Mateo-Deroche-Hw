{
 "cells": [
  {
   "cell_type": "markdown",
   "metadata": {},
   "source": [
    "# SQL Subqueries - Lab Assignment #2\n",
    "\n",
    "## Introduction\n",
    "\n",
    "Now that you've seen how subqueries work, it's time to get some practice writing them! Not all of the queries will require subqueries, but all will be a bit more complex and require some thought and review about aggregates, grouping, ordering, filtering, joins and subqueries. Good luck!  \n",
    "\n",
    "## Objectives\n",
    "\n",
    "You will be able to:\n",
    "\n",
    "* Write subqueries to decompose complex queries\n",
    "\n",
    "## CRM Database ERD\n",
    "\n",
    "Once again, here's the schema for the CRM database you'll continue to practice with.\n",
    "\n",
    "<img src=\"img/Database-Schema.png\" width=\"600\">\n",
    "\n",
    "## Connect to the Database\n",
    "\n",
    "As usual, start by importing the necessary packages and connecting to the database `data2.sqlite` in the data folder."
   ]
  },
  {
   "cell_type": "code",
   "execution_count": 1,
   "metadata": {},
   "outputs": [],
   "source": [
    "# Your code here; import the necessary packages\n",
    "import sqlite3"
   ]
  },
  {
   "cell_type": "raw",
   "metadata": {},
   "source": [
    "# Your code here; create the connection\n",
    "\n",
    "database_path = \"data/data2.sqlite\"\n",
    "\n",
    "try:\n",
    "    connection = sqlite3.connect(database_path)\n",
    "    cursor = connection.cursor()\n",
    "    print(\"Connected to the database successfully!\")\n",
    "\n",
    "    cursor.execute(\"SELECT * FROM productlines\")\n",
    "    data = cursor.fetchall()\n",
    "\n",
    "    connection.close()\n",
    "    print(\"Connection closed.\")\n",
    "\n",
    "except sqlite3.Error as e:\n",
    "    print(\"Error connecting to the database:\", e)\n"
   ]
  },
  {
   "cell_type": "markdown",
   "metadata": {},
   "source": [
    "## Write an Equivalent Query using a Subquery\n",
    "\n",
    "The following query works using a `JOIN`. Rewrite it so that it uses a subquery instead.\n",
    "\n",
    "```\n",
    "SELECT\n",
    "    customerNumber,\n",
    "    contactLastName,\n",
    "    contactFirstName\n",
    "FROM customers\n",
    "JOIN orders \n",
    "    USING(customerNumber)\n",
    "WHERE orderDate = '2003-01-31'\n",
    ";\n",
    "```"
   ]
  },
  {
   "cell_type": "code",
   "execution_count": 6,
   "metadata": {},
   "outputs": [
    {
     "name": "stdout",
     "output_type": "stream",
     "text": [
      "Connected to the database successfully!\n",
      "(141, 'Freyre', 'Diego ')\n",
      "Connection closed.\n"
     ]
    }
   ],
   "source": [
    "# Your code here\n",
    "\n",
    "try:\n",
    "    connection = sqlite3.connect(database_path)\n",
    "    cursor = connection.cursor()\n",
    "    print(\"Connected to the database successfully!\")\n",
    "\n",
    "    # Execute the query using a subquery\n",
    "    cursor.execute(\"\"\"\n",
    "        SELECT\n",
    "            customerNumber,\n",
    "            contactLastName,\n",
    "            contactFirstName\n",
    "        FROM customers\n",
    "        WHERE customerNumber IN (\n",
    "            SELECT customerNumber\n",
    "            FROM orders\n",
    "            WHERE orderDate = '2003-01-31'\n",
    "        )\n",
    "    \"\"\")\n",
    "    \n",
    "    rows = cursor.fetchall()\n",
    "    for row in rows:\n",
    "        print(row)\n",
    "\n",
    "    connection.close()\n",
    "    print(\"Connection closed.\")\n",
    "\n",
    "except sqlite3.Error as e:\n",
    "    print(\"Error connecting to the database:\", e)\n"
   ]
  },
  {
   "cell_type": "markdown",
   "metadata": {},
   "source": [
    "## Select the Total Number of Orders for Each Product Name\n",
    "\n",
    "Sort the results by the total number of items sold for that product."
   ]
  },
  {
   "cell_type": "code",
   "execution_count": 7,
   "metadata": {},
   "outputs": [
    {
     "name": "stdout",
     "output_type": "stream",
     "text": [
      "Connected to the database successfully!\n",
      "('S32_3207', \"1950's Chicago Surface Lines Streetcar\", 49)\n",
      "('S24_2840', '1958 Chevy Corvette Limited Edition', 44)\n",
      "('S12_4473', '1957 Chevy Pickup', 41)\n",
      "('S18_4027', '1970 Triumph Spitfire', 38)\n",
      "('S24_1444', '1970 Dodge Coronet', 35)\n",
      "('S32_2509', '1954 Greyhound Scenicruiser', 35)\n",
      "('S12_3148', '1969 Corvair Monza', 34)\n",
      "('S50_1392', 'Diamond T620 Semi-Skirted Tanker', 33)\n",
      "('S50_1514', '1962 City of Detroit Streetcar', 32)\n",
      "('S18_2319', '1964 Mercedes Tour Bus', 29)\n",
      "('S24_4048', '1992 Porsche Cayenne Turbo Silver', 26)\n",
      "('S18_2238', '1998 Chrysler Plymouth Prowler', 24)\n",
      "('S18_3232', '1992 Ferrari 360 Spider red', 23)\n",
      "Connection closed.\n"
     ]
    }
   ],
   "source": [
    "# Your code here\n",
    "try:\n",
    "    connection = sqlite3.connect(database_path)\n",
    "    cursor = connection.cursor()\n",
    "    print(\"Connected to the database successfully!\")\n",
    "\n",
    "    cursor.execute(\"\"\"\n",
    "        SELECT\n",
    "            p.productCode,\n",
    "            p.productName,\n",
    "            SUM(od.quantityOrdered) AS totalItemsSold\n",
    "        FROM products AS p\n",
    "        JOIN orderdetails AS od\n",
    "            ON p.productCode = od.productCode\n",
    "        JOIN orders AS o\n",
    "            ON od.orderNumber = o.orderNumber\n",
    "        WHERE o.orderDate = '2003-01-31'\n",
    "        GROUP BY p.productCode, p.productName\n",
    "        ORDER BY totalItemsSold DESC;\n",
    "    \"\"\")\n",
    "    \n",
    "    rows = cursor.fetchall()\n",
    "    for row in rows:\n",
    "        print(row)\n",
    "\n",
    "    connection.close()\n",
    "    print(\"Connection closed.\")\n",
    "\n",
    "except sqlite3.Error as e:\n",
    "    print(\"Error connecting to the database:\", e)"
   ]
  },
  {
   "cell_type": "markdown",
   "metadata": {},
   "source": [
    "## Select the Product Name and the  Total Number of People Who Have Ordered Each Product\n",
    "\n",
    "Sort the results in descending order."
   ]
  },
  {
   "cell_type": "markdown",
   "metadata": {},
   "source": [
    "### A quick note on the SQL  `SELECT DISTINCT` statement:"
   ]
  },
  {
   "cell_type": "markdown",
   "metadata": {},
   "source": [
    "The `SELECT DISTINCT` statement is used to return only distinct values in the specified column. In other words, it removes the duplicate values in the column from the result set.\n",
    "\n",
    "Inside a table, a column often contains many duplicate values; and sometimes you only want to list the unique values. If you apply the `DISTINCT` clause to a column that has `NULL`, the `DISTINCT` clause will keep only one NULL and eliminates the other. In other words, the DISTINCT clause treats all `NULL` “values” as the same value."
   ]
  },
  {
   "cell_type": "code",
   "execution_count": 9,
   "metadata": {},
   "outputs": [
    {
     "name": "stdout",
     "output_type": "stream",
     "text": [
      "Connected to the database successfully!\n",
      "('1992 Ferrari 360 Spider red', 40)\n",
      "('Boeing X-32A JSF', 27)\n",
      "('1972 Alfa Romeo GTA', 27)\n",
      "('1952 Alpine Renault 1300', 27)\n",
      "('1934 Ford V8 Coupe', 27)\n",
      "('HMS Bounty', 26)\n",
      "('Corsair F4U ( Bird Cage)', 26)\n",
      "('American Airlines: MD-11S', 26)\n",
      "('1999 Yamaha Speed Boat', 26)\n",
      "('1996 Moto Guzzi 1100i', 26)\n",
      "('1995 Honda Civic', 26)\n",
      "('1980s Black Hawk Helicopter', 26)\n",
      "('1969 Harley Davidson Ultimate Chopper', 26)\n",
      "('1941 Chevrolet Special Deluxe Cabriolet', 26)\n",
      "('1940 Ford Delivery Sedan', 26)\n",
      "('1937 Horch 930V Limousine', 26)\n",
      "('1913 Ford Model T Speedster', 26)\n",
      "('1900s Vintage Bi-Plane', 26)\n",
      "('18th Century Vintage Horse Carriage', 26)\n",
      "('America West Airlines B757-200', 25)\n",
      "('ATA: B757-300', 25)\n",
      "('2003 Harley-Davidson Eagle Drag Bike', 25)\n",
      "('2002 Suzuki XREO', 25)\n",
      "('1997 BMW R 1100 S', 25)\n",
      "('1993 Mazda RX-7', 25)\n",
      "('1962 LanciaA Delta 16V', 25)\n",
      "('1960 BSA Gold Star DBD34', 25)\n",
      "('1948 Porsche 356-A Roadster', 25)\n",
      "('1940s Ford truck', 25)\n",
      "('1940 Ford Pickup Truck', 25)\n",
      "('1937 Lincoln Berline', 25)\n",
      "('1936 Mercedes-Benz 500K Special Roadster', 25)\n",
      "('1936 Harley Davidson El Knucklehead', 25)\n",
      "('1912 Ford Model T Delivery Wagon', 25)\n",
      "('The Queen Mary', 24)\n",
      "('Pont Yacht', 24)\n",
      "('P-51-D Mustang', 24)\n",
      "('F/A 18 Hornet 1/72', 24)\n",
      "('2002 Yamaha YZR M1', 24)\n",
      "('1997 BMW F650 ST', 24)\n",
      "('1969 Dodge Charger', 24)\n",
      "('1939 Chevrolet Deluxe Coupe', 24)\n",
      "('1936 Chrysler Airflow', 24)\n",
      "('1932 Model A Ford J-Coupe', 24)\n",
      "('1917 Maxwell Touring Car', 24)\n",
      "('1917 Grand Touring Sedan', 24)\n",
      "('18th century schooner', 24)\n",
      "('The USS Constitution Ship', 23)\n",
      "('The Schooner Bluenose', 23)\n",
      "('American Airlines: B767-300', 23)\n",
      "('2001 Ferrari Enzo', 23)\n",
      "('1996 Peterbilt 379 Stake Bed with Outrigger', 23)\n",
      "('1980’s GM Manhattan Express', 23)\n",
      "('1974 Ducati 350 Mk3 Desmo', 23)\n",
      "('1970 Plymouth Hemi Cuda', 23)\n",
      "('1968 Ford Mustang', 23)\n",
      "('1958 Setra Bus', 23)\n",
      "('1939 Cadillac Limousine', 23)\n",
      "('1938 Cadillac V-16 Presidential Limousine', 23)\n",
      "('1932 Alfa Romeo 8C2300 Spider Sport', 23)\n",
      "('1930 Buick Marquette Phaeton', 23)\n",
      "('1928 Ford Phaeton Deluxe', 23)\n",
      "('1926 Ford Fire Engine', 23)\n",
      "('1911 Ford Town Car', 23)\n",
      "('The Titanic', 22)\n",
      "('The Mayflower', 22)\n",
      "('Diamond T620 Semi-Skirted Tanker', 22)\n",
      "('1982 Ducati 900 Monster', 22)\n",
      "('1982 Camaro Z28', 22)\n",
      "('1971 Alpine Renault 1600s', 22)\n",
      "('1969 Ford Falcon', 22)\n",
      "('1969 Corvair Monza', 22)\n",
      "('1968 Dodge Charger', 22)\n",
      "('1965 Aston Martin DB5', 22)\n",
      "('1964 Mercedes Tour Bus', 22)\n",
      "('1962 City of Detroit Streetcar', 22)\n",
      "('1961 Chevrolet Impala', 22)\n",
      "('1956 Porsche 356A Coupe', 22)\n",
      "(\"1950's Chicago Surface Lines Streetcar\", 22)\n",
      "('1928 British Royal Navy Airplane', 22)\n",
      "('1904 Buick Runabout', 22)\n",
      "('1900s Vintage Tri-Plane', 22)\n",
      "('1999 Indy 500 Monte Carlo SS', 21)\n",
      "('1998 Chrysler Plymouth Prowler', 21)\n",
      "('1982 Lamborghini Diablo', 21)\n",
      "('1982 Ducati 996 R', 21)\n",
      "('1970 Triumph Spitfire', 21)\n",
      "('1969 Dodge Super Bee', 21)\n",
      "('1966 Shelby Cobra 427 S/C', 21)\n",
      "('1962 Volkswagen Microbus', 21)\n",
      "('1957 Vespa GS150', 21)\n",
      "('1957 Corvette Convertible', 21)\n",
      "('1957 Chevy Pickup', 21)\n",
      "('1948 Porsche Type 356 Roadster', 21)\n",
      "('1936 Mercedes Benz 500k Roadster', 21)\n",
      "('1928 Mercedes-Benz SSK', 21)\n",
      "('1903 Ford Model A', 21)\n",
      "('Collectable Wooden Train', 20)\n",
      "('1992 Porsche Cayenne Turbo Silver', 20)\n",
      "('1976 Ford Gran Torino', 20)\n",
      "('1970 Dodge Coronet', 20)\n",
      "('1970 Chevy Chevelle SS 454', 20)\n",
      "('1957 Ford Thunderbird', 20)\n",
      "('1954 Greyhound Scenicruiser', 20)\n",
      "('1958 Chevy Corvette Limited Edition', 19)\n",
      "('2002 Chevy Corvette', 18)\n",
      "('1969 Chevrolet Camaro Z28', 18)\n",
      "('1952 Citroen-15CV', 18)\n",
      "('1949 Jaguar XK 120', 18)\n",
      "Connection closed.\n"
     ]
    }
   ],
   "source": [
    "# Your code here\n",
    "# Hint: because one of the tables we'll be joining has duplicate customer numbers, you should use DISTINCT\n",
    "\n",
    "try:\n",
    "    connection = sqlite3.connect(database_path)\n",
    "    cursor = connection.cursor()\n",
    "    print(\"Connected to the database successfully!\")\n",
    "\n",
    "    # Execute the query to get the product name and total number of people who ordered each product\n",
    "    cursor.execute(\"\"\"\n",
    "        SELECT p.productName, COUNT(DISTINCT o.customerNumber) AS totalCustomers\n",
    "        FROM products AS p\n",
    "        JOIN orderdetails AS od ON p.productCode = od.productCode\n",
    "        JOIN orders AS o ON od.orderNumber = o.orderNumber\n",
    "        GROUP BY p.productName\n",
    "        ORDER BY totalCustomers DESC;\n",
    "    \"\"\")\n",
    "    \n",
    "    # Fetch and print the results\n",
    "    rows = cursor.fetchall()\n",
    "    for row in rows:\n",
    "        print(row)\n",
    "\n",
    "    # Close the database connection\n",
    "    connection.close()\n",
    "    print(\"Connection closed.\")\n",
    "\n",
    "except sqlite3.Error as e:\n",
    "    print(\"Error connecting to the database:\", e)"
   ]
  },
  {
   "cell_type": "markdown",
   "metadata": {},
   "source": [
    "## Select the Employee Number, First Name, Last Name, City (of the office), and Office Code of the Employees Who Sold Products That Have Been Ordered by Fewer Than 20 people.\n",
    "\n",
    "This problem is a bit tougher. To start, think about how you might break the problem up. Be sure that your results only list each employee once."
   ]
  },
  {
   "cell_type": "code",
   "execution_count": 10,
   "metadata": {},
   "outputs": [
    {
     "name": "stdout",
     "output_type": "stream",
     "text": [
      "Connected to the database successfully!\n",
      "(1370, 'Gerard', 'Hernandez', 'Paris', 4)\n",
      "(1501, 'Larry', 'Bott', 'London', 7)\n",
      "(1337, 'Loui', 'Bondur', 'Paris', 4)\n",
      "(1166, 'Leslie', 'Thompson', 'San Francisco', 1)\n",
      "(1286, 'Foon Yue', 'Tseng', 'NYC', 3)\n",
      "(1612, 'Peter', 'Marsh', 'Sydney', 6)\n",
      "(1611, 'Andy', 'Fixter', 'Sydney', 6)\n",
      "(1401, 'Pamela', 'Castillo', 'Paris', 4)\n",
      "(1621, 'Mami', 'Nishi', 'Tokyo', 5)\n",
      "(1323, 'George', 'Vanauf', 'NYC', 3)\n",
      "(1165, 'Leslie', 'Jennings', 'San Francisco', 1)\n",
      "(1702, 'Martin', 'Gerard', 'Paris', 4)\n",
      "(1216, 'Steve', 'Patterson', 'Boston', 2)\n",
      "(1188, 'Julie', 'Firrelli', 'Boston', 2)\n",
      "(1504, 'Barry', 'Jones', 'London', 7)\n",
      "Connection closed.\n"
     ]
    }
   ],
   "source": [
    "# Your code here\n",
    "\n",
    "try:\n",
    "    connection = sqlite3.connect(database_path)\n",
    "    cursor = connection.cursor()\n",
    "    print(\"Connected to the database successfully!\")\n",
    "\n",
    "    cursor.execute(\"\"\"\n",
    "        SELECT DISTINCT e.employeeNumber, e.firstName, e.lastName, o.city AS officeCity, e.officeCode\n",
    "        FROM employees AS e\n",
    "        JOIN offices AS o ON e.officeCode = o.officeCode\n",
    "        JOIN customers AS c ON e.employeeNumber = c.salesRepEmployeeNumber\n",
    "        JOIN orders AS o2 ON c.customerNumber = o2.customerNumber\n",
    "        JOIN orderdetails AS od ON o2.orderNumber = od.orderNumber\n",
    "        WHERE od.productCode IN (\n",
    "            SELECT DISTINCT od2.productCode\n",
    "            FROM orderdetails AS od2\n",
    "            JOIN orders AS o3 ON od2.orderNumber = o3.orderNumber\n",
    "            GROUP BY od2.productCode\n",
    "            HAVING COUNT(DISTINCT o3.customerNumber) < 20\n",
    "        );\n",
    "    \"\"\")\n",
    "    \n",
    "    rows = cursor.fetchall()\n",
    "    for row in rows:\n",
    "        print(row)\n",
    "\n",
    "    connection.close()\n",
    "    print(\"Connection closed.\")\n",
    "\n",
    "except sqlite3.Error as e:\n",
    "    print(\"Error connecting to the database:\", e)\n",
    "\n"
   ]
  },
  {
   "cell_type": "markdown",
   "metadata": {},
   "source": [
    "## Select the Employee Number, First Name, Last Name, and Number of Customers for Employees Whose Customers Have an Average Credit Limit Over 15K"
   ]
  },
  {
   "cell_type": "code",
   "execution_count": 11,
   "metadata": {},
   "outputs": [
    {
     "name": "stdout",
     "output_type": "stream",
     "text": [
      "Connected to the database successfully!\n",
      "(1165, 'Leslie', 'Jennings', 6)\n",
      "(1166, 'Leslie', 'Thompson', 6)\n",
      "(1188, 'Julie', 'Firrelli', 6)\n",
      "(1216, 'Steve', 'Patterson', 6)\n",
      "(1286, 'Foon Yue', 'Tseng', 7)\n",
      "(1323, 'George', 'Vanauf', 8)\n",
      "(1337, 'Loui', 'Bondur', 6)\n",
      "(1370, 'Gerard', 'Hernandez', 7)\n",
      "(1401, 'Pamela', 'Castillo', 10)\n",
      "(1501, 'Larry', 'Bott', 8)\n",
      "(1504, 'Barry', 'Jones', 9)\n",
      "(1611, 'Andy', 'Fixter', 5)\n",
      "(1612, 'Peter', 'Marsh', 5)\n",
      "(1621, 'Mami', 'Nishi', 5)\n",
      "(1702, 'Martin', 'Gerard', 6)\n",
      "Connection closed.\n"
     ]
    }
   ],
   "source": [
    "# Your code here\n",
    "\n",
    "try:\n",
    "    connection = sqlite3.connect(database_path)\n",
    "    cursor = connection.cursor()\n",
    "    print(\"Connected to the database successfully!\")\n",
    "\n",
    "    cursor.execute(\"\"\"\n",
    "        SELECT\n",
    "            e.employeeNumber,\n",
    "            e.firstName,\n",
    "            e.lastName,\n",
    "            COUNT(c.customerNumber) AS numberOfCustomers\n",
    "        FROM\n",
    "            employees AS e\n",
    "        JOIN\n",
    "            customers AS c\n",
    "        ON\n",
    "            e.employeeNumber = c.salesRepEmployeeNumber\n",
    "        GROUP BY\n",
    "            e.employeeNumber,\n",
    "            e.firstName,\n",
    "            e.lastName\n",
    "        HAVING\n",
    "            AVG(c.creditLimit) > 15000;\n",
    "    \"\"\")\n",
    "\n",
    "    rows = cursor.fetchall()\n",
    "    for row in rows:\n",
    "        print(row)\n",
    "\n",
    "    connection.close()\n",
    "    print(\"Connection closed.\")\n",
    "\n",
    "except sqlite3.Error as e:\n",
    "    print(\"Error connecting to the database:\", e)\n"
   ]
  },
  {
   "cell_type": "markdown",
   "metadata": {},
   "source": [
    "## Summary\n",
    "\n",
    "In this lesson, you got to practice some more complex SQL queries, some of which required subqueries. There's still plenty more SQL to be had though; hope you've been enjoying some of these puzzles!"
   ]
  }
 ],
 "metadata": {
  "hide_input": false,
  "kernelspec": {
   "display_name": "Python 3 (ipykernel)",
   "language": "python",
   "name": "python3"
  },
  "language_info": {
   "codemirror_mode": {
    "name": "ipython",
    "version": 3
   },
   "file_extension": ".py",
   "mimetype": "text/x-python",
   "name": "python",
   "nbconvert_exporter": "python",
   "pygments_lexer": "ipython3",
   "version": "3.11.4"
  },
  "latex_envs": {
   "LaTeX_envs_menu_present": true,
   "autoclose": false,
   "autocomplete": true,
   "bibliofile": "biblio.bib",
   "cite_by": "apalike",
   "current_citInitial": 1,
   "eqLabelWithNumbers": true,
   "eqNumInitial": 1,
   "hotkeys": {
    "equation": "Ctrl-E",
    "itemize": "Ctrl-I"
   },
   "labels_anchors": false,
   "latex_user_defs": false,
   "report_style_numbering": false,
   "user_envs_cfg": false
  },
  "nbTranslate": {
   "displayLangs": [
    "*"
   ],
   "hotkey": "alt-t",
   "langInMainMenu": true,
   "sourceLang": "en",
   "targetLang": "fr",
   "useGoogleTranslate": true
  },
  "toc": {
   "base_numbering": 1,
   "nav_menu": {},
   "number_sections": true,
   "sideBar": true,
   "skip_h1_title": false,
   "title_cell": "Table of Contents",
   "title_sidebar": "Contents",
   "toc_cell": false,
   "toc_position": {},
   "toc_section_display": true,
   "toc_window_display": false
  },
  "varInspector": {
   "cols": {
    "lenName": 16,
    "lenType": 16,
    "lenVar": 40
   },
   "kernels_config": {
    "python": {
     "delete_cmd_postfix": "",
     "delete_cmd_prefix": "del ",
     "library": "var_list.py",
     "varRefreshCmd": "print(var_dic_list())"
    },
    "r": {
     "delete_cmd_postfix": ") ",
     "delete_cmd_prefix": "rm(",
     "library": "var_list.r",
     "varRefreshCmd": "cat(var_dic_list()) "
    }
   },
   "types_to_exclude": [
    "module",
    "function",
    "builtin_function_or_method",
    "instance",
    "_Feature"
   ],
   "window_display": false
  }
 },
 "nbformat": 4,
 "nbformat_minor": 2
}
