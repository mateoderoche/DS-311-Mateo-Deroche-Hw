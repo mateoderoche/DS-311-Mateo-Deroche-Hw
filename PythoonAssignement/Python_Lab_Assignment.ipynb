{
 "cells": [
  {
   "cell_type": "markdown",
   "metadata": {},
   "source": [
    "# PyCity Schools Analysis\n",
    "\n",
    "* As a whole, schools with higher budgets, did not yield better test results. By contrast, schools with higher spending per student actually (\\\\$645 - 675) underperformed compared to schools with smaller budgets (\\\\$585 per student).\n",
    "\n",
    "* As a whole, smaller and medium sized schools dramatically out-performed large sized schools on passing math performances (89-91% passing vs 67%).\n",
    "\n",
    "* As a whole, charter schools out-performed the public district schools across all metrics. However, more analysis will be required to glean if the effect is due to school practices or the fact that charter schools tend to serve smaller student populations per school. \n",
    "---"
   ]
  },
  {
   "cell_type": "markdown",
   "metadata": {},
   "source": [
    "**Note:**\n",
    "Instructions have been included for each segment. You do not have to follow them exactly, but they are included to help you think through the steps."
   ]
  },
  {
   "cell_type": "code",
   "execution_count": 1,
   "metadata": {
    "ExecuteTime": {
     "end_time": "2022-08-06T06:08:31.925112Z",
     "start_time": "2022-08-06T06:08:29.337754Z"
    }
   },
   "outputs": [
    {
     "data": {
      "text/html": [
       "<div>\n",
       "<style scoped>\n",
       "    .dataframe tbody tr th:only-of-type {\n",
       "        vertical-align: middle;\n",
       "    }\n",
       "\n",
       "    .dataframe tbody tr th {\n",
       "        vertical-align: top;\n",
       "    }\n",
       "\n",
       "    .dataframe thead th {\n",
       "        text-align: right;\n",
       "    }\n",
       "</style>\n",
       "<table border=\"1\" class=\"dataframe\">\n",
       "  <thead>\n",
       "    <tr style=\"text-align: right;\">\n",
       "      <th></th>\n",
       "      <th>Student ID</th>\n",
       "      <th>student_name</th>\n",
       "      <th>gender</th>\n",
       "      <th>grade</th>\n",
       "      <th>school_name</th>\n",
       "      <th>reading_score</th>\n",
       "      <th>math_score</th>\n",
       "      <th>School ID</th>\n",
       "      <th>type</th>\n",
       "      <th>size</th>\n",
       "      <th>budget</th>\n",
       "    </tr>\n",
       "  </thead>\n",
       "  <tbody>\n",
       "    <tr>\n",
       "      <th>0</th>\n",
       "      <td>0</td>\n",
       "      <td>Paul Bradley</td>\n",
       "      <td>M</td>\n",
       "      <td>9th</td>\n",
       "      <td>Huang High School</td>\n",
       "      <td>66</td>\n",
       "      <td>79</td>\n",
       "      <td>0</td>\n",
       "      <td>District</td>\n",
       "      <td>2917</td>\n",
       "      <td>1910635</td>\n",
       "    </tr>\n",
       "    <tr>\n",
       "      <th>1</th>\n",
       "      <td>1</td>\n",
       "      <td>Victor Smith</td>\n",
       "      <td>M</td>\n",
       "      <td>12th</td>\n",
       "      <td>Huang High School</td>\n",
       "      <td>94</td>\n",
       "      <td>61</td>\n",
       "      <td>0</td>\n",
       "      <td>District</td>\n",
       "      <td>2917</td>\n",
       "      <td>1910635</td>\n",
       "    </tr>\n",
       "    <tr>\n",
       "      <th>2</th>\n",
       "      <td>2</td>\n",
       "      <td>Kevin Rodriguez</td>\n",
       "      <td>M</td>\n",
       "      <td>12th</td>\n",
       "      <td>Huang High School</td>\n",
       "      <td>90</td>\n",
       "      <td>60</td>\n",
       "      <td>0</td>\n",
       "      <td>District</td>\n",
       "      <td>2917</td>\n",
       "      <td>1910635</td>\n",
       "    </tr>\n",
       "    <tr>\n",
       "      <th>3</th>\n",
       "      <td>3</td>\n",
       "      <td>Dr. Richard Scott</td>\n",
       "      <td>M</td>\n",
       "      <td>12th</td>\n",
       "      <td>Huang High School</td>\n",
       "      <td>67</td>\n",
       "      <td>58</td>\n",
       "      <td>0</td>\n",
       "      <td>District</td>\n",
       "      <td>2917</td>\n",
       "      <td>1910635</td>\n",
       "    </tr>\n",
       "    <tr>\n",
       "      <th>4</th>\n",
       "      <td>4</td>\n",
       "      <td>Bonnie Ray</td>\n",
       "      <td>F</td>\n",
       "      <td>9th</td>\n",
       "      <td>Huang High School</td>\n",
       "      <td>97</td>\n",
       "      <td>84</td>\n",
       "      <td>0</td>\n",
       "      <td>District</td>\n",
       "      <td>2917</td>\n",
       "      <td>1910635</td>\n",
       "    </tr>\n",
       "  </tbody>\n",
       "</table>\n",
       "</div>"
      ],
      "text/plain": [
       "   Student ID       student_name gender grade        school_name  \\\n",
       "0           0       Paul Bradley      M   9th  Huang High School   \n",
       "1           1       Victor Smith      M  12th  Huang High School   \n",
       "2           2    Kevin Rodriguez      M  12th  Huang High School   \n",
       "3           3  Dr. Richard Scott      M  12th  Huang High School   \n",
       "4           4         Bonnie Ray      F   9th  Huang High School   \n",
       "\n",
       "   reading_score  math_score  School ID      type  size   budget  \n",
       "0             66          79          0  District  2917  1910635  \n",
       "1             94          61          0  District  2917  1910635  \n",
       "2             90          60          0  District  2917  1910635  \n",
       "3             67          58          0  District  2917  1910635  \n",
       "4             97          84          0  District  2917  1910635  "
      ]
     },
     "execution_count": 1,
     "metadata": {},
     "output_type": "execute_result"
    }
   ],
   "source": [
    "# Dependencies and Setup\n",
    "import pandas as pd\n",
    "import numpy as np\n",
    "\n",
    "# File to Load (Remember to Change These)\n",
    "school_data_to_load = \"data/schools_complete.csv\"\n",
    "student_data_to_load = \"data/students_complete.csv\"\n",
    "\n",
    "# Read School and Student Data File and store into Pandas Data Frames\n",
    "school_data = pd.read_csv(school_data_to_load)\n",
    "student_data = pd.read_csv(student_data_to_load)\n",
    "\n",
    "# Combine the data into a single dataset\n",
    "school_data_complete = pd.merge(student_data, school_data, how=\"left\", on=[\"school_name\", \"school_name\"])\n",
    "school_data_complete.head()\n",
    "\n",
    "# school_data_complete.count()"
   ]
  },
  {
   "cell_type": "markdown",
   "metadata": {},
   "source": [
    "## District Summary\n",
    "\n",
    "* Calculate the total number of schools\n",
    "\n",
    "* Calculate the total number of students\n",
    "\n",
    "* Calculate the total budget\n",
    "\n",
    "* Calculate the average math score \n",
    "\n",
    "* Calculate the average reading score\n",
    "\n",
    "* Calculate the overall passing rate (overall average score), i.e. (avg. math score + avg. reading score)/2\n",
    "\n",
    "* Calculate the percentage of students with a passing math score (70 or greater)\n",
    "\n",
    "* Calculate the percentage of students with a passing reading score (70 or greater)\n",
    "\n",
    "* Create a dataframe to hold the above results\n",
    "\n",
    "* Optional: give the displayed data cleaner formatting"
   ]
  },
  {
   "cell_type": "code",
   "execution_count": 19,
   "metadata": {},
   "outputs": [
    {
     "name": "stdout",
     "output_type": "stream",
     "text": [
      "0            Huang High School\n",
      "2917      Figueroa High School\n",
      "5866       Shelton High School\n",
      "7627     Hernandez High School\n",
      "12262      Griffin High School\n",
      "13730       Wilson High School\n",
      "16013      Cabrera High School\n",
      "17871       Bailey High School\n",
      "22847       Holden High School\n",
      "23274         Pena High School\n",
      "24236       Wright High School\n",
      "26036    Rodriguez High School\n",
      "30035      Johnson High School\n",
      "34796         Ford High School\n",
      "37535       Thomas High School\n",
      "Name: school_name, dtype: object\n"
     ]
    }
   ],
   "source": [
    "# Create a District Summary\n",
    "df = pd.DataFrame(school_data_complete, columns = ['Student ID', 'student_name', 'gender', 'grade', 'school_name', 'reading_score', 'math_score', 'School ID', 'type', 'size', 'budget'])\n",
    "district_summary = school_data_complete['school_name'].drop_duplicates()\n",
    "\n",
    "print(district_summary)"
   ]
  },
  {
   "cell_type": "code",
   "execution_count": 3,
   "metadata": {},
   "outputs": [
    {
     "data": {
      "text/plain": [
       "15"
      ]
     },
     "execution_count": 3,
     "metadata": {},
     "output_type": "execute_result"
    }
   ],
   "source": [
    "# Total number of schools\n",
    "district_summary.count()"
   ]
  },
  {
   "cell_type": "code",
   "execution_count": 4,
   "metadata": {},
   "outputs": [
    {
     "data": {
      "text/plain": [
       "39170"
      ]
     },
     "execution_count": 4,
     "metadata": {},
     "output_type": "execute_result"
    }
   ],
   "source": [
    "# Total number of students\n",
    "school_data_complete['student_name'].count()"
   ]
  },
  {
   "cell_type": "code",
   "execution_count": 5,
   "metadata": {},
   "outputs": [
    {
     "data": {
      "text/plain": [
       "82932329558"
      ]
     },
     "execution_count": 5,
     "metadata": {},
     "output_type": "execute_result"
    }
   ],
   "source": [
    "# Total budget\n",
    "school_data_complete['budget'].sum()"
   ]
  },
  {
   "cell_type": "code",
   "execution_count": 6,
   "metadata": {},
   "outputs": [
    {
     "data": {
      "text/plain": [
       "78.98537145774827"
      ]
     },
     "execution_count": 6,
     "metadata": {},
     "output_type": "execute_result"
    }
   ],
   "source": [
    "# Average math score\n",
    "school_data_complete['math_score'].mean()"
   ]
  },
  {
   "cell_type": "code",
   "execution_count": 7,
   "metadata": {},
   "outputs": [
    {
     "data": {
      "text/plain": [
       "81.87784018381414"
      ]
     },
     "execution_count": 7,
     "metadata": {},
     "output_type": "execute_result"
    }
   ],
   "source": [
    "# Average reading score\n",
    "school_data_complete['reading_score'].mean()"
   ]
  },
  {
   "cell_type": "code",
   "execution_count": 8,
   "metadata": {},
   "outputs": [
    {
     "data": {
      "text/plain": [
       "160.86321164156243"
      ]
     },
     "execution_count": 8,
     "metadata": {},
     "output_type": "execute_result"
    }
   ],
   "source": [
    "# Overall average score\n",
    "combine_avrg = school_data_complete['reading_score'].add(school_data_complete['math_score'])\n",
    "combine_avrg.mean()"
   ]
  },
  {
   "cell_type": "code",
   "execution_count": 41,
   "metadata": {},
   "outputs": [
    {
     "name": "stdout",
     "output_type": "stream",
     "text": [
      "74.9808526933878\n"
     ]
    }
   ],
   "source": [
    "# Percentage of passing math (70 or greater)\n",
    "passing_score = 70\n",
    "pass_math_perc = (len(df[df['math_score'] >= passing_score]) / len(df)) * 100\n",
    "\n",
    "print(pass_math_perc)"
   ]
  },
  {
   "cell_type": "markdown",
   "metadata": {},
   "source": [
    "## School Summary"
   ]
  },
  {
   "cell_type": "markdown",
   "metadata": {},
   "source": [
    "* Create an overview table that summarizes key metrics about each school, including:\n",
    "  * School Name\n",
    "  * School Type\n",
    "  * Total Students\n",
    "  * Total School Budget\n",
    "  * Per Student Budget\n",
    "  * Average Math Score\n",
    "  * Average Reading Score\n",
    "  * % Passing Math\n",
    "  * % Passing Reading\n",
    "  * Overall Passing Rate (Average of the above two)\n",
    "  \n",
    "* Create a dataframe to hold the above results"
   ]
  },
  {
   "cell_type": "markdown",
   "metadata": {},
   "source": [
    "### Top Performing Schools (By Passing Rate)"
   ]
  },
  {
   "cell_type": "markdown",
   "metadata": {},
   "source": [
    "* Sort and display the top five schools in overall passing rate"
   ]
  },
  {
   "cell_type": "code",
   "execution_count": 77,
   "metadata": {},
   "outputs": [
    {
     "name": "stdout",
     "output_type": "stream",
     "text": [
      "school_name\n",
      "Cabrera High School    91.334769\n",
      "Thomas High School     90.948012\n",
      "Griffin High School    90.599455\n",
      "Wilson High School     90.582567\n",
      "Pena High School       90.540541\n",
      "Name: ovrl_passed, dtype: float64\n"
     ]
    }
   ],
   "source": [
    "#  Sort and display the top five schools in overall passing rate\n",
    "df['math_passed'] = df['math_score'] >= passing_score\n",
    "df['read_passed'] = df['reading_score'] >= passing_score\n",
    "df['ovrl_passed'] = (df['math_passed'] & df['read_passed'])\n",
    "\n",
    "ovrl_pass_by_schl = df.groupby('school_name')['ovrl_passed'].mean() * 100\n",
    "top_five = ovrl_pass_by_schl.sort_values(ascending=False).head(5)\n",
    "\n",
    "print(top_five)"
   ]
  },
  {
   "cell_type": "code",
   "execution_count": 79,
   "metadata": {
    "scrolled": true
   },
   "outputs": [
    {
     "name": "stdout",
     "output_type": "stream",
     "text": [
      "82932329558\n"
     ]
    }
   ],
   "source": [
    "# Calculate total school budget\n",
    "ttl_bdg = df['budget'].sum()\n",
    "\n",
    "print(ttl_bdg)"
   ]
  },
  {
   "cell_type": "code",
   "execution_count": 82,
   "metadata": {},
   "outputs": [
    {
     "name": "stdout",
     "output_type": "stream",
     "text": [
      "108.1079930292704\n"
     ]
    }
   ],
   "source": [
    "# Calculate per student budget\n",
    "tt_stdt = df['Student ID'].sum()\n",
    "stdt_budget = ttl_bdg / tt_stdt\n",
    "\n",
    "print(stdt_budget)"
   ]
  },
  {
   "cell_type": "code",
   "execution_count": null,
   "metadata": {},
   "outputs": [],
   "source": [
    "# Cacluate the avg math and reading score\n",
    "avg_math_score = df['math_score'].mean()\n",
    "avg_read_score = df['read_score'].mean()\n",
    "\n"
   ]
  },
  {
   "cell_type": "markdown",
   "metadata": {},
   "source": [
    "#### Find the passing rate for math and reading (above 70 points)"
   ]
  },
  {
   "cell_type": "code",
   "execution_count": 34,
   "metadata": {},
   "outputs": [
    {
     "name": "stdout",
     "output_type": "stream",
     "text": [
      "39170\n",
      "school_name\n",
      "Bailey High School       3318\n",
      "Cabrera High School      1749\n",
      "Figueroa High School     1946\n",
      "Ford High School         1871\n",
      "Griffin High School      1371\n",
      "Hernandez High School    3094\n",
      "Holden High School        395\n",
      "Huang High School        1916\n",
      "Johnson High School      3145\n",
      "Pena High School          910\n",
      "Rodriguez High School    2654\n",
      "Shelton High School      1653\n",
      "Thomas High School       1525\n",
      "Wilson High School       2143\n",
      "Wright High School       1680\n",
      "Name: math_score, dtype: int64\n",
      "74.9808526933878\n"
     ]
    }
   ],
   "source": [
    "# Find the total counts of math result\n",
    "math_score_count = school_data_complete['math_score'].count()\n",
    "\n",
    "print(math_score_count)\n",
    "\n",
    "# Find the counts for math result in each school that pass 70 or higher\n",
    "filt_df = df[df['math_score'] >= 70]\n",
    "school_math_counts = filt_df.groupby(by=['school_name'])['math_score'].count()\n",
    "\n",
    "print(school_math_counts)\n",
    "\n",
    "# Calculate the math passing rate\n",
    "passing_score = 70\n",
    "passed_math_df = df[df['math_score'] >= passing_score]\n",
    "math_passing_rate = (len(passed_math_df) / len(df)) * 100\n",
    "\n",
    "print(math_passing_rate)\n",
    "\n"
   ]
  },
  {
   "cell_type": "code",
   "execution_count": 38,
   "metadata": {},
   "outputs": [
    {
     "name": "stdout",
     "output_type": "stream",
     "text": [
      "39170\n",
      "school_name\n",
      "Bailey High School       4077\n",
      "Cabrera High School      1803\n",
      "Figueroa High School     2381\n",
      "Ford High School         2172\n",
      "Griffin High School      1426\n",
      "Hernandez High School    3748\n",
      "Holden High School        411\n",
      "Huang High School        2372\n",
      "Johnson High School      3867\n",
      "Pena High School          923\n",
      "Rodriguez High School    3208\n",
      "Shelton High School      1688\n",
      "Thomas High School       1591\n",
      "Wilson High School       2204\n",
      "Wright High School       1739\n",
      "Name: math_score, dtype: int64\n",
      "85.80546336482001\n"
     ]
    }
   ],
   "source": [
    "# Find the total counts of read result\n",
    "total_read_counts = df['reading_score'].count()\n",
    "\n",
    "print(total_read_counts)\n",
    "\n",
    "# Find the counts for read result in each school that pass 70 or higher\n",
    "filt_df = df[df['reading_score'] >= 70]\n",
    "school_reading_counts = filt_df.groupby(by=['school_name'])['math_score'].count()\n",
    "\n",
    "print(school_reading_counts)\n",
    "\n",
    "# Calculate the read passing rate\n",
    "passing_score = 70\n",
    "passed_reading_df = df[df['reading_score'] >= passing_score]\n",
    "reading_passing_rate = (len(passed_reading_df) / len(df)) * 100\n",
    "\n",
    "print(reading_passing_rate)\n"
   ]
  },
  {
   "cell_type": "code",
   "execution_count": 39,
   "metadata": {},
   "outputs": [
    {
     "name": "stdout",
     "output_type": "stream",
     "text": [
      "80.39315802910392\n"
     ]
    }
   ],
   "source": [
    "# Calculate the overall passing rate (average of the math and reading passing rate)\n",
    "ovrl_pass_rt = (math_passing_rate + reading_passing_rate) / 2\n",
    "\n",
    "print(ovrl_pass_rt)"
   ]
  },
  {
   "cell_type": "code",
   "execution_count": null,
   "metadata": {},
   "outputs": [],
   "source": []
  },
  {
   "cell_type": "code",
   "execution_count": null,
   "metadata": {},
   "outputs": [],
   "source": []
  },
  {
   "cell_type": "code",
   "execution_count": null,
   "metadata": {},
   "outputs": [],
   "source": []
  },
  {
   "cell_type": "markdown",
   "metadata": {},
   "source": [
    "### Bottom Performing Schools (By Passing Rate)"
   ]
  },
  {
   "cell_type": "markdown",
   "metadata": {},
   "source": [
    "* Sort and display the five worst-performing schools"
   ]
  },
  {
   "cell_type": "code",
   "execution_count": 83,
   "metadata": {},
   "outputs": [
    {
     "name": "stdout",
     "output_type": "stream",
     "text": [
      "school_name\n",
      "Rodriguez High School    52.988247\n",
      "Figueroa High School     53.204476\n",
      "Huang High School        53.513884\n",
      "Hernandez High School    53.527508\n",
      "Johnson High School      53.539172\n",
      "Name: ovrl_passed, dtype: float64\n"
     ]
    }
   ],
   "source": [
    "#  Sort and display the worst five schools in overall passing rate\n",
    "wrst_five = ovrl_pass_by_schl.sort_values(ascending=True).head(5)\n",
    "\n",
    "print(wrst_five)\n"
   ]
  },
  {
   "cell_type": "markdown",
   "metadata": {
    "collapsed": true
   },
   "source": [
    "## Math Scores by Grade"
   ]
  },
  {
   "cell_type": "markdown",
   "metadata": {},
   "source": [
    "* Create a table that lists the average Reading Score for students of each grade level (9th, 10th, 11th, 12th) at each school.\n",
    "\n",
    "  * Create a pandas series for each grade. Hint: use a conditional statement.\n",
    "  \n",
    "  * Group each series by school\n",
    "  \n",
    "  * Combine the series into a dataframe\n",
    "  \n",
    "  * Optional: give the displayed data cleaner formatting"
   ]
  },
  {
   "cell_type": "code",
   "execution_count": 44,
   "metadata": {},
   "outputs": [
    {
     "name": "stdout",
     "output_type": "stream",
     "text": [
      "              school_name grade  average_math_score\n",
      "0      Bailey High School  10th           76.996772\n",
      "1      Bailey High School  11th           77.515588\n",
      "2      Bailey High School  12th           76.492218\n",
      "3      Bailey High School   9th           77.083676\n",
      "4     Cabrera High School  10th           83.154506\n",
      "5     Cabrera High School  11th           82.765560\n",
      "6     Cabrera High School  12th           83.277487\n",
      "7     Cabrera High School   9th           83.094697\n",
      "8    Figueroa High School  10th           76.539974\n",
      "9    Figueroa High School  11th           76.884344\n",
      "10   Figueroa High School  12th           77.151369\n",
      "11   Figueroa High School   9th           76.403037\n",
      "12       Ford High School  10th           77.672316\n",
      "13       Ford High School  11th           76.918058\n",
      "14       Ford High School  12th           76.179963\n",
      "15       Ford High School   9th           77.361345\n",
      "16    Griffin High School  10th           84.229064\n",
      "17    Griffin High School  11th           83.842105\n",
      "18    Griffin High School  12th           83.356164\n",
      "19    Griffin High School   9th           82.044010\n",
      "20  Hernandez High School  10th           77.337408\n",
      "21  Hernandez High School  11th           77.136029\n",
      "22  Hernandez High School  12th           77.186567\n",
      "23  Hernandez High School   9th           77.438495\n",
      "24     Holden High School  10th           83.429825\n",
      "25     Holden High School  11th           85.000000\n",
      "26     Holden High School  12th           82.855422\n",
      "27     Holden High School   9th           83.787402\n",
      "28      Huang High School  10th           75.908735\n",
      "29      Huang High School  11th           76.446602\n",
      "30      Huang High School  12th           77.225641\n",
      "31      Huang High School   9th           77.027251\n",
      "32    Johnson High School  10th           76.691117\n",
      "33    Johnson High School  11th           77.491653\n",
      "34    Johnson High School  12th           76.863248\n",
      "35    Johnson High School   9th           77.187857\n",
      "36       Pena High School  10th           83.372000\n",
      "37       Pena High School  11th           84.328125\n",
      "38       Pena High School  12th           84.121547\n",
      "39       Pena High School   9th           83.625455\n",
      "40  Rodriguez High School  10th           76.612500\n",
      "41  Rodriguez High School  11th           76.395626\n",
      "42  Rodriguez High School  12th           77.690748\n",
      "43  Rodriguez High School   9th           76.859966\n",
      "44    Shelton High School  10th           82.917411\n",
      "45    Shelton High School  11th           83.383495\n",
      "46    Shelton High School  12th           83.778976\n",
      "47    Shelton High School   9th           83.420755\n",
      "48     Thomas High School  10th           83.087886\n",
      "49     Thomas High School  11th           83.498795\n",
      "50     Thomas High School  12th           83.497041\n",
      "51     Thomas High School   9th           83.590022\n",
      "52     Wilson High School  10th           83.724422\n",
      "53     Wilson High School  11th           83.195326\n",
      "54     Wilson High School  12th           83.035794\n",
      "55     Wilson High School   9th           83.085578\n",
      "56     Wright High School  10th           84.010288\n",
      "57     Wright High School  11th           83.836782\n",
      "58     Wright High School  12th           83.644986\n",
      "59     Wright High School   9th           83.264706\n"
     ]
    }
   ],
   "source": [
    "# Create table that lists the average math score for each school of each grade level.\n",
    "avr_math = df.groupby(['school_name', 'grade'])['math_score'].mean().reset_index()\n",
    "avr_math = average_math_scores.rename(columns={'math_score': 'avr_math'})\n",
    "\n",
    "print(avr_math)"
   ]
  },
  {
   "cell_type": "code",
   "execution_count": 45,
   "metadata": {},
   "outputs": [
    {
     "name": "stdout",
     "output_type": "stream",
     "text": [
      "school_name\n",
      "Bailey High School       77.083676\n",
      "Cabrera High School      83.094697\n",
      "Figueroa High School     76.403037\n",
      "Ford High School         77.361345\n",
      "Griffin High School      82.044010\n",
      "Hernandez High School    77.438495\n",
      "Holden High School       83.787402\n",
      "Huang High School        77.027251\n",
      "Johnson High School      77.187857\n",
      "Pena High School         83.625455\n",
      "Rodriguez High School    76.859966\n",
      "Shelton High School      83.420755\n",
      "Thomas High School       83.590022\n",
      "Wilson High School       83.085578\n",
      "Wright High School       83.264706\n",
      "Name: math_score, dtype: float64\n"
     ]
    }
   ],
   "source": [
    "# Calculate the average math score for 9th grade in each school\n",
    "grd_9_math = df[df['grade'] == '9th']\n",
    "avr_9_math = grd_9_math.groupby('school_name')['math_score'].mean()\n",
    "\n",
    "print(avr_9_math)"
   ]
  },
  {
   "cell_type": "code",
   "execution_count": 46,
   "metadata": {},
   "outputs": [
    {
     "name": "stdout",
     "output_type": "stream",
     "text": [
      "school_name\n",
      "Bailey High School       76.996772\n",
      "Cabrera High School      83.154506\n",
      "Figueroa High School     76.539974\n",
      "Ford High School         77.672316\n",
      "Griffin High School      84.229064\n",
      "Hernandez High School    77.337408\n",
      "Holden High School       83.429825\n",
      "Huang High School        75.908735\n",
      "Johnson High School      76.691117\n",
      "Pena High School         83.372000\n",
      "Rodriguez High School    76.612500\n",
      "Shelton High School      82.917411\n",
      "Thomas High School       83.087886\n",
      "Wilson High School       83.724422\n",
      "Wright High School       84.010288\n",
      "Name: math_score, dtype: float64\n"
     ]
    }
   ],
   "source": [
    "# Calculate the average math score for 10th grade in each school\n",
    "grd_10_math = df[df['grade'] == '10th']\n",
    "avr_10_math = grd_10_math.groupby('school_name')['math_score'].mean()\n",
    "\n",
    "print(avr_10_math)"
   ]
  },
  {
   "cell_type": "code",
   "execution_count": 47,
   "metadata": {},
   "outputs": [
    {
     "name": "stdout",
     "output_type": "stream",
     "text": [
      "school_name\n",
      "Bailey High School       77.515588\n",
      "Cabrera High School      82.765560\n",
      "Figueroa High School     76.884344\n",
      "Ford High School         76.918058\n",
      "Griffin High School      83.842105\n",
      "Hernandez High School    77.136029\n",
      "Holden High School       85.000000\n",
      "Huang High School        76.446602\n",
      "Johnson High School      77.491653\n",
      "Pena High School         84.328125\n",
      "Rodriguez High School    76.395626\n",
      "Shelton High School      83.383495\n",
      "Thomas High School       83.498795\n",
      "Wilson High School       83.195326\n",
      "Wright High School       83.836782\n",
      "Name: math_score, dtype: float64\n"
     ]
    }
   ],
   "source": [
    "# Calculate the average math score for 11th grade in each school\n",
    "grd_11_math = df[df['grade'] == '11th']\n",
    "avr_11_math = grd_11_math.groupby('school_name')['math_score'].mean()\n",
    "\n",
    "print(avr_11_math)"
   ]
  },
  {
   "cell_type": "code",
   "execution_count": 48,
   "metadata": {},
   "outputs": [
    {
     "name": "stdout",
     "output_type": "stream",
     "text": [
      "school_name\n",
      "Bailey High School       76.492218\n",
      "Cabrera High School      83.277487\n",
      "Figueroa High School     77.151369\n",
      "Ford High School         76.179963\n",
      "Griffin High School      83.356164\n",
      "Hernandez High School    77.186567\n",
      "Holden High School       82.855422\n",
      "Huang High School        77.225641\n",
      "Johnson High School      76.863248\n",
      "Pena High School         84.121547\n",
      "Rodriguez High School    77.690748\n",
      "Shelton High School      83.778976\n",
      "Thomas High School       83.497041\n",
      "Wilson High School       83.035794\n",
      "Wright High School       83.644986\n",
      "Name: math_score, dtype: float64\n"
     ]
    }
   ],
   "source": [
    "# Calculate the average math score for 12th grade in each school\n",
    "grd_12_math = df[df['grade'] == '12th']\n",
    "avr_12_math = grd_12_math.groupby('school_name')['math_score'].mean()\n",
    "\n",
    "print(avr_12_math)"
   ]
  },
  {
   "cell_type": "markdown",
   "metadata": {},
   "source": [
    "### Reading Score by Grade "
   ]
  },
  {
   "cell_type": "markdown",
   "metadata": {},
   "source": [
    "* Perform the same operations as above for reading scores"
   ]
  },
  {
   "cell_type": "code",
   "execution_count": 50,
   "metadata": {},
   "outputs": [
    {
     "name": "stdout",
     "output_type": "stream",
     "text": [
      "              school_name grade   avr_read\n",
      "0      Bailey High School  10th  80.907183\n",
      "1      Bailey High School  11th  80.945643\n",
      "2      Bailey High School  12th  80.912451\n",
      "3      Bailey High School   9th  81.303155\n",
      "4     Cabrera High School  10th  84.253219\n",
      "5     Cabrera High School  11th  83.788382\n",
      "6     Cabrera High School  12th  84.287958\n",
      "7     Cabrera High School   9th  83.676136\n",
      "8    Figueroa High School  10th  81.408912\n",
      "9    Figueroa High School  11th  80.640339\n",
      "10   Figueroa High School  12th  81.384863\n",
      "11   Figueroa High School   9th  81.198598\n",
      "12       Ford High School  10th  81.262712\n",
      "13       Ford High School  11th  80.403642\n",
      "14       Ford High School  12th  80.662338\n",
      "15       Ford High School   9th  80.632653\n",
      "16    Griffin High School  10th  83.706897\n",
      "17    Griffin High School  11th  84.288089\n",
      "18    Griffin High School  12th  84.013699\n",
      "19    Griffin High School   9th  83.369193\n",
      "20  Hernandez High School  10th  80.660147\n",
      "21  Hernandez High School  11th  81.396140\n",
      "22  Hernandez High School  12th  80.857143\n",
      "23  Hernandez High School   9th  80.866860\n",
      "24     Holden High School  10th  83.324561\n",
      "25     Holden High School  11th  83.815534\n",
      "26     Holden High School  12th  84.698795\n",
      "27     Holden High School   9th  83.677165\n",
      "28      Huang High School  10th  81.512386\n",
      "29      Huang High School  11th  81.417476\n",
      "30      Huang High School  12th  80.305983\n",
      "31      Huang High School   9th  81.290284\n",
      "32    Johnson High School  10th  80.773431\n",
      "33    Johnson High School  11th  80.616027\n",
      "34    Johnson High School  12th  81.227564\n",
      "35    Johnson High School   9th  81.260714\n",
      "36       Pena High School  10th  83.612000\n",
      "37       Pena High School  11th  84.335938\n",
      "38       Pena High School  12th  84.591160\n",
      "39       Pena High School   9th  83.807273\n",
      "40  Rodriguez High School  10th  80.629808\n",
      "41  Rodriguez High School  11th  80.864811\n",
      "42  Rodriguez High School  12th  80.376426\n",
      "43  Rodriguez High School   9th  80.993127\n",
      "44    Shelton High School  10th  83.441964\n",
      "45    Shelton High School  11th  84.373786\n",
      "46    Shelton High School  12th  82.781671\n",
      "47    Shelton High School   9th  84.122642\n",
      "48     Thomas High School  10th  84.254157\n",
      "49     Thomas High School  11th  83.585542\n",
      "50     Thomas High School  12th  83.831361\n",
      "51     Thomas High School   9th  83.728850\n",
      "52     Wilson High School  10th  84.021452\n",
      "53     Wilson High School  11th  83.764608\n",
      "54     Wilson High School  12th  84.317673\n",
      "55     Wilson High School   9th  83.939778\n",
      "56     Wright High School  10th  83.812757\n",
      "57     Wright High School  11th  84.156322\n",
      "58     Wright High School  12th  84.073171\n",
      "59     Wright High School   9th  83.833333\n"
     ]
    }
   ],
   "source": [
    "# Create table that lists the average reading score for each school of each grade level.\n",
    "avr_read = df.groupby(['school_name', 'grade'])['reading_score'].mean().reset_index()\n",
    "avr_read = avr_read.rename(columns={'reading_score': 'avr_read'})\n",
    "\n",
    "print(avr_read)"
   ]
  },
  {
   "cell_type": "code",
   "execution_count": 51,
   "metadata": {},
   "outputs": [
    {
     "name": "stdout",
     "output_type": "stream",
     "text": [
      "school_name\n",
      "Bailey High School       81.303155\n",
      "Cabrera High School      83.676136\n",
      "Figueroa High School     81.198598\n",
      "Ford High School         80.632653\n",
      "Griffin High School      83.369193\n",
      "Hernandez High School    80.866860\n",
      "Holden High School       83.677165\n",
      "Huang High School        81.290284\n",
      "Johnson High School      81.260714\n",
      "Pena High School         83.807273\n",
      "Rodriguez High School    80.993127\n",
      "Shelton High School      84.122642\n",
      "Thomas High School       83.728850\n",
      "Wilson High School       83.939778\n",
      "Wright High School       83.833333\n",
      "Name: reading_score, dtype: float64\n"
     ]
    }
   ],
   "source": [
    "# Calculate the average reading score for 9th grade in each school\n",
    "grd_9_read = df[df['grade'] == '9th']\n",
    "avr_read_9 = grd_9_read.groupby('school_name')['reading_score'].mean()\n",
    "\n",
    "print(avr_read_9)"
   ]
  },
  {
   "cell_type": "code",
   "execution_count": 52,
   "metadata": {},
   "outputs": [
    {
     "name": "stdout",
     "output_type": "stream",
     "text": [
      "school_name\n",
      "Bailey High School       80.907183\n",
      "Cabrera High School      84.253219\n",
      "Figueroa High School     81.408912\n",
      "Ford High School         81.262712\n",
      "Griffin High School      83.706897\n",
      "Hernandez High School    80.660147\n",
      "Holden High School       83.324561\n",
      "Huang High School        81.512386\n",
      "Johnson High School      80.773431\n",
      "Pena High School         83.612000\n",
      "Rodriguez High School    80.629808\n",
      "Shelton High School      83.441964\n",
      "Thomas High School       84.254157\n",
      "Wilson High School       84.021452\n",
      "Wright High School       83.812757\n",
      "Name: reading_score, dtype: float64\n"
     ]
    }
   ],
   "source": [
    "# Calculate the average reading score for 10th grade in each school\n",
    "grd_10_read = df[df['grade'] == '10th']\n",
    "avr_read_10 = grd_10_read.groupby('school_name')['reading_score'].mean()\n",
    "\n",
    "print(avr_read_10)"
   ]
  },
  {
   "cell_type": "code",
   "execution_count": 53,
   "metadata": {},
   "outputs": [
    {
     "name": "stdout",
     "output_type": "stream",
     "text": [
      "school_name\n",
      "Bailey High School       80.945643\n",
      "Cabrera High School      83.788382\n",
      "Figueroa High School     80.640339\n",
      "Ford High School         80.403642\n",
      "Griffin High School      84.288089\n",
      "Hernandez High School    81.396140\n",
      "Holden High School       83.815534\n",
      "Huang High School        81.417476\n",
      "Johnson High School      80.616027\n",
      "Pena High School         84.335938\n",
      "Rodriguez High School    80.864811\n",
      "Shelton High School      84.373786\n",
      "Thomas High School       83.585542\n",
      "Wilson High School       83.764608\n",
      "Wright High School       84.156322\n",
      "Name: reading_score, dtype: float64\n"
     ]
    }
   ],
   "source": [
    "# Calculate the average reading score for 11th grade in each school\n",
    "grd_11_read = df[df['grade'] == '11th']\n",
    "avr_read_11 = grd_11_read.groupby('school_name')['reading_score'].mean()\n",
    "\n",
    "print(avr_read_11)"
   ]
  },
  {
   "cell_type": "code",
   "execution_count": 54,
   "metadata": {},
   "outputs": [
    {
     "name": "stdout",
     "output_type": "stream",
     "text": [
      "school_name\n",
      "Bailey High School       80.912451\n",
      "Cabrera High School      84.287958\n",
      "Figueroa High School     81.384863\n",
      "Ford High School         80.662338\n",
      "Griffin High School      84.013699\n",
      "Hernandez High School    80.857143\n",
      "Holden High School       84.698795\n",
      "Huang High School        80.305983\n",
      "Johnson High School      81.227564\n",
      "Pena High School         84.591160\n",
      "Rodriguez High School    80.376426\n",
      "Shelton High School      82.781671\n",
      "Thomas High School       83.831361\n",
      "Wilson High School       84.317673\n",
      "Wright High School       84.073171\n",
      "Name: reading_score, dtype: float64\n"
     ]
    }
   ],
   "source": [
    "# Calculate the average reading score for 12th grade in each school\n",
    "grd_12_read = df[df['grade'] == '12th']\n",
    "avr_read_12 = grd_12_read.groupby('school_name')['reading_score'].mean()\n",
    "\n",
    "print(avr_read_12)"
   ]
  },
  {
   "cell_type": "markdown",
   "metadata": {},
   "source": [
    "## Scores by School Spending"
   ]
  },
  {
   "cell_type": "markdown",
   "metadata": {},
   "source": [
    "* Create a table that breaks down school performances based on average Spending Ranges (Per Student). Use 4 reasonable bins to group school spending. Include in the table each of the following:\n",
    "  * Average Math Score\n",
    "  * Average Reading Score\n",
    "  * % Passing Math\n",
    "  * % Passing Reading\n",
    "  * Overall Passing Rate (Average of the above two)"
   ]
  },
  {
   "cell_type": "code",
   "execution_count": 59,
   "metadata": {},
   "outputs": [],
   "source": [
    "# Sample bins. Feel free to create your own bins.\n",
    "spending_bins = [0, 585, 615, 645, 675]\n",
    "group_names = [\"<$585\", \"$585-615\", \"$615-645\", \"$645-675\"]"
   ]
  },
  {
   "cell_type": "code",
   "execution_count": 60,
   "metadata": {},
   "outputs": [
    {
     "name": "stdout",
     "output_type": "stream",
     "text": [
      "       Student ID       student_name gender grade         school_name  \\\n",
      "0               0       Paul Bradley      M   9th   Huang High School   \n",
      "1               1       Victor Smith      M  12th   Huang High School   \n",
      "2               2    Kevin Rodriguez      M  12th   Huang High School   \n",
      "3               3  Dr. Richard Scott      M  12th   Huang High School   \n",
      "4               4         Bonnie Ray      F   9th   Huang High School   \n",
      "...           ...                ...    ...   ...                 ...   \n",
      "39165       39165       Donna Howard      F  12th  Thomas High School   \n",
      "39166       39166          Dawn Bell      F  10th  Thomas High School   \n",
      "39167       39167     Rebecca Tanner      F   9th  Thomas High School   \n",
      "39168       39168       Desiree Kidd      F  10th  Thomas High School   \n",
      "39169       39169    Carolyn Jackson      F  11th  Thomas High School   \n",
      "\n",
      "       reading_score  math_score  School ID      type  size   budget  \\\n",
      "0                 66          79          0  District  2917  1910635   \n",
      "1                 94          61          0  District  2917  1910635   \n",
      "2                 90          60          0  District  2917  1910635   \n",
      "3                 67          58          0  District  2917  1910635   \n",
      "4                 97          84          0  District  2917  1910635   \n",
      "...              ...         ...        ...       ...   ...      ...   \n",
      "39165             99          90         14   Charter  1635  1043130   \n",
      "39166             95          70         14   Charter  1635  1043130   \n",
      "39167             73          84         14   Charter  1635  1043130   \n",
      "39168             99          90         14   Charter  1635  1043130   \n",
      "39169             95          75         14   Charter  1635  1043130   \n",
      "\n",
      "       budget_per_student  \n",
      "0               48.778019  \n",
      "1               48.778019  \n",
      "2               48.778019  \n",
      "3               48.778019  \n",
      "4               48.778019  \n",
      "...                   ...  \n",
      "39165           26.630840  \n",
      "39166           26.630840  \n",
      "39167           26.630840  \n",
      "39168           26.630840  \n",
      "39169           26.630840  \n",
      "\n",
      "[39170 rows x 12 columns]\n"
     ]
    }
   ],
   "source": [
    "# Create a new column to show budget per student in each row\n",
    "df['budget_per_student'] = df['budget'] / school_data_complete['student_name'].count()\n",
    "print(df)"
   ]
  },
  {
   "cell_type": "code",
   "execution_count": 65,
   "metadata": {},
   "outputs": [
    {
     "name": "stdout",
     "output_type": "stream",
     "text": [
      "       Student ID       student_name gender grade         school_name  \\\n",
      "0               0       Paul Bradley      M   9th   Huang High School   \n",
      "1               1       Victor Smith      M  12th   Huang High School   \n",
      "2               2    Kevin Rodriguez      M  12th   Huang High School   \n",
      "3               3  Dr. Richard Scott      M  12th   Huang High School   \n",
      "4               4         Bonnie Ray      F   9th   Huang High School   \n",
      "...           ...                ...    ...   ...                 ...   \n",
      "39165       39165       Donna Howard      F  12th  Thomas High School   \n",
      "39166       39166          Dawn Bell      F  10th  Thomas High School   \n",
      "39167       39167     Rebecca Tanner      F   9th  Thomas High School   \n",
      "39168       39168       Desiree Kidd      F  10th  Thomas High School   \n",
      "39169       39169    Carolyn Jackson      F  11th  Thomas High School   \n",
      "\n",
      "       reading_score  math_score  School ID      type  size   budget  \\\n",
      "0                 66          79          0  District  2917  1910635   \n",
      "1                 94          61          0  District  2917  1910635   \n",
      "2                 90          60          0  District  2917  1910635   \n",
      "3                 67          58          0  District  2917  1910635   \n",
      "4                 97          84          0  District  2917  1910635   \n",
      "...              ...         ...        ...       ...   ...      ...   \n",
      "39165             99          90         14   Charter  1635  1043130   \n",
      "39166             95          70         14   Charter  1635  1043130   \n",
      "39167             73          84         14   Charter  1635  1043130   \n",
      "39168             99          90         14   Charter  1635  1043130   \n",
      "39169             95          75         14   Charter  1635  1043130   \n",
      "\n",
      "       budget_per_student spending_range_per_student spdg_rng_std  \n",
      "0               48.778019                      <$585        <$585  \n",
      "1               48.778019                      <$585        <$585  \n",
      "2               48.778019                      <$585        <$585  \n",
      "3               48.778019                      <$585        <$585  \n",
      "4               48.778019                      <$585        <$585  \n",
      "...                   ...                        ...          ...  \n",
      "39165           26.630840                      <$585        <$585  \n",
      "39166           26.630840                      <$585        <$585  \n",
      "39167           26.630840                      <$585        <$585  \n",
      "39168           26.630840                      <$585        <$585  \n",
      "39169           26.630840                      <$585        <$585  \n",
      "\n",
      "[39170 rows x 14 columns]\n"
     ]
    }
   ],
   "source": [
    "# Create a new column to define the spending ranges per student\n",
    "df['spdg_rng_std'] = pd.cut(df['budget_per_student'], bins=spending_bins, labels=group_names)\n",
    "\n",
    "print(df)"
   ]
  },
  {
   "cell_type": "code",
   "execution_count": 66,
   "metadata": {},
   "outputs": [
    {
     "name": "stdout",
     "output_type": "stream",
     "text": [
      "spdg_rng_std\n",
      "<$585       78.985371\n",
      "$585-615          NaN\n",
      "$615-645          NaN\n",
      "$645-675          NaN\n",
      "Name: math_score, dtype: float64\n"
     ]
    }
   ],
   "source": [
    "# Calculate the average math score within each spending range\n",
    "avr_math_by_spdg = df.groupby('spdg_rng_std')['math_score'].mean()\n",
    "\n",
    "# Display the average math scores by spending range\n",
    "print(avr_math_by_spdg)"
   ]
  },
  {
   "cell_type": "code",
   "execution_count": 69,
   "metadata": {},
   "outputs": [
    {
     "name": "stdout",
     "output_type": "stream",
     "text": [
      "spdg_rng_std\n",
      "<$585       74.98\n",
      "$585-615      NaN\n",
      "$615-645      NaN\n",
      "$645-675      NaN\n",
      "Name: math_passed, dtype: float64\n"
     ]
    }
   ],
   "source": [
    "# Calculate the percentage passing rate for math in each spending range\n",
    "df['math_passed'] = df['math_score'] >= 70\n",
    "math_pass_by_spdg = (df.groupby('spdg_rng_std')['math_passed'].mean() * 100).round(2)\n",
    "\n",
    "print(math_pass_by_spdg)"
   ]
  },
  {
   "cell_type": "code",
   "execution_count": 70,
   "metadata": {},
   "outputs": [
    {
     "name": "stdout",
     "output_type": "stream",
     "text": [
      "spdg_rng_std\n",
      "<$585       85.81\n",
      "$585-615      NaN\n",
      "$615-645      NaN\n",
      "$645-675      NaN\n",
      "Name: reading_passed, dtype: float64\n"
     ]
    }
   ],
   "source": [
    "# Calculate the percentage passing rate for reading in each spending range\n",
    "df['reading_passed'] = df['reading_score'] >= 70\n",
    "read_pass_by_spdg = (df.groupby('spdg_rng_std')['reading_passed'].mean() * 100).round(2)\n",
    "\n",
    "print(read_pass_by_spdg)"
   ]
  },
  {
   "cell_type": "code",
   "execution_count": 71,
   "metadata": {},
   "outputs": [
    {
     "name": "stdout",
     "output_type": "stream",
     "text": [
      "spdg_rng_std\n",
      "<$585       65.17\n",
      "$585-615      NaN\n",
      "$615-645      NaN\n",
      "$645-675      NaN\n",
      "Name: overall_passed, dtype: float64\n"
     ]
    }
   ],
   "source": [
    "# Calculate the percentage overall passing rate in each spending range\n",
    "df['overall_passed'] = df['math_passed'] & df['reading_passed']\n",
    "ovrl_pass_by_spending = (df.groupby('spdg_rng_std')['overall_passed'].mean() * 100).round(2)\n",
    "\n",
    "print(ovrl_pass_by_spending)"
   ]
  },
  {
   "cell_type": "markdown",
   "metadata": {},
   "source": [
    "### Scores by School Size"
   ]
  },
  {
   "cell_type": "markdown",
   "metadata": {},
   "source": [
    "* Perform the same operations as above, based on school size."
   ]
  },
  {
   "cell_type": "code",
   "execution_count": 72,
   "metadata": {},
   "outputs": [],
   "source": [
    "# Sample bins. Feel free to create your own bins.\n",
    "size_bins = [0, 1000, 2000, 5000]\n",
    "group_names = [\"Small (<1000)\", \"Medium (1000-2000)\", \"Large (2000-5000)\"]"
   ]
  },
  {
   "cell_type": "code",
   "execution_count": 75,
   "metadata": {
    "scrolled": true
   },
   "outputs": [],
   "source": [
    "# Create a new column for the bin groups\n"
   ]
  },
  {
   "cell_type": "markdown",
   "metadata": {},
   "source": [
    "Look for the total count of test scores that pass 70% or higher\n",
    "\n",
    "\n"
   ]
  },
  {
   "cell_type": "code",
   "execution_count": null,
   "metadata": {},
   "outputs": [],
   "source": [
    "# math_pass_size\n",
    "\n",
    "\n"
   ]
  },
  {
   "cell_type": "code",
   "execution_count": null,
   "metadata": {},
   "outputs": [],
   "source": [
    "# read_pass_size\n",
    "\n",
    "\n"
   ]
  },
  {
   "cell_type": "code",
   "execution_count": null,
   "metadata": {},
   "outputs": [],
   "source": [
    "# Calculate the overall passing rate for different school size\n",
    "\n",
    "\n"
   ]
  },
  {
   "cell_type": "markdown",
   "metadata": {},
   "source": [
    "### Scores by School Type"
   ]
  },
  {
   "cell_type": "markdown",
   "metadata": {},
   "source": [
    "* Perform the same operations as above, based on school type."
   ]
  },
  {
   "cell_type": "code",
   "execution_count": null,
   "metadata": {},
   "outputs": [],
   "source": [
    "# Create bins and groups, school type {'Charter', 'District'}\n",
    "\n",
    "\n"
   ]
  },
  {
   "cell_type": "markdown",
   "metadata": {},
   "source": [
    "Find counts of the passing 70 or higher score for the both test\n"
   ]
  },
  {
   "cell_type": "code",
   "execution_count": null,
   "metadata": {},
   "outputs": [],
   "source": [
    "# math pass size\n",
    "\n",
    "\n"
   ]
  },
  {
   "cell_type": "code",
   "execution_count": null,
   "metadata": {},
   "outputs": [],
   "source": [
    "# reading pass size\n",
    "\n"
   ]
  },
  {
   "cell_type": "code",
   "execution_count": null,
   "metadata": {},
   "outputs": [],
   "source": [
    "# Calculate the overall passing rate\n",
    "\n"
   ]
  }
 ],
 "metadata": {
  "anaconda-cloud": {},
  "kernel_info": {
   "name": "python3"
  },
  "kernelspec": {
   "display_name": "Python 3 (ipykernel)",
   "language": "python",
   "name": "python3"
  },
  "language_info": {
   "codemirror_mode": {
    "name": "ipython",
    "version": 3
   },
   "file_extension": ".py",
   "mimetype": "text/x-python",
   "name": "python",
   "nbconvert_exporter": "python",
   "pygments_lexer": "ipython3",
   "version": "3.11.4"
  },
  "latex_envs": {
   "LaTeX_envs_menu_present": true,
   "autoclose": false,
   "autocomplete": true,
   "bibliofile": "biblio.bib",
   "cite_by": "apalike",
   "current_citInitial": 1,
   "eqLabelWithNumbers": true,
   "eqNumInitial": 1,
   "hotkeys": {
    "equation": "Ctrl-E",
    "itemize": "Ctrl-I"
   },
   "labels_anchors": false,
   "latex_user_defs": false,
   "report_style_numbering": false,
   "user_envs_cfg": false
  },
  "nteract": {
   "version": "0.8.4"
  },
  "toc": {
   "base_numbering": 1,
   "nav_menu": {},
   "number_sections": true,
   "sideBar": true,
   "skip_h1_title": false,
   "title_cell": "Table of Contents",
   "title_sidebar": "Contents",
   "toc_cell": false,
   "toc_position": {},
   "toc_section_display": true,
   "toc_window_display": false
  }
 },
 "nbformat": 4,
 "nbformat_minor": 1
}
